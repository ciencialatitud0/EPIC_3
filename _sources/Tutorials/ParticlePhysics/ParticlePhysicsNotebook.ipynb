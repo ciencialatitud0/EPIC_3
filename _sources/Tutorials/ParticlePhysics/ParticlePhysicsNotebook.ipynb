{
  "cells": [
    {
      "cell_type": "markdown",
      "source": [
        "## Section 0: Install packages"
      ],
      "metadata": {
        "id": "hbu1xuxbOj42"
      }
    },
    {
      "cell_type": "code",
      "source": [
        "!pip install -q condacolab\n",
        "import condacolab\n",
        "condacolab.install()"
      ],
      "metadata": {
        "id": "ImRYjk5KOhcg"
      },
      "execution_count": null,
      "outputs": []
    },
    {
      "cell_type": "code",
      "source": [
        "import condacolab\n",
        "condacolab.check()"
      ],
      "metadata": {
        "id": "PYSo4gXNOqGe"
      },
      "execution_count": null,
      "outputs": []
    },
    {
      "cell_type": "code",
      "source": [
        "! pip install uproot\n",
        "! conda install -c conda-forge xrootd"
      ],
      "metadata": {
        "id": "X8Jwte_wOwvl"
      },
      "execution_count": null,
      "outputs": []
    },
    {
      "cell_type": "markdown",
      "metadata": {
        "id": "K3Lr-3M7OaLM"
      },
      "source": [
        "Section 1: Data Formats and Exploration\n",
        "===============================================================\n",
        "\n",
        "Particle physics uses a data format (and analysis ecosystem) based on the `ROOT` library: https://root.cern.ch/.\n",
        "`ROOT` is a framework for data processing, born at CERN, at the heart of the research on high-energy physics.\n",
        "A `ROOT` file is a compressed binary file in which we can save objects of any type.\n",
        "There are python bindings built into `ROOT`, so called `PyROOT`, but for now we won't discuss this.\n",
        "\n",
        "Recently, a different library called `uproot` has been developed allowing python users to do `ROOT` I/O directly: https://uproot.readthedocs.io/en/latest/.\n",
        "`uproot` is a reader and a writer of the `ROOT` file format using only `Python` and `Numpy`.\n",
        "Unlike the standard C++ `ROOT` implementation, uproot is only an I/O library, primarily intended to stream data into machine learning libraries in `Python`.\n",
        "Unlike `PyROOT` and `root_numpy`, uproot does not depend on C++ `ROOT`.\n",
        "Instead, it uses `Numpy` to cast blocks of data from the `ROOT` file as `Numpy` arrays.\n",
        "It can also make jagged or awkward arrays based on this library: https://github.com/scikit-hep/awkward-1.0 {cite:p}`Pivarski:2020qcb`.\n",
        "\n",
        "\n",
        "For a tutorial on `uproot`, see: https://hsf-training.github.io/hsf-training-uproot-webpage/ or here: https://github.com/jpivarski-talks/2020-07-13-pyhep2020-tutorial."
      ]
    },
    {
      "cell_type": "code",
      "execution_count": null,
      "metadata": {
        "id": "zxZfDy_gOaLN"
      },
      "outputs": [],
      "source": [
        "import uproot"
      ]
    },
    {
      "cell_type": "markdown",
      "metadata": {
        "id": "lfbhsV5IOaLO"
      },
      "source": [
        "## Remote files\n",
        "One nice feature of `ROOT` and `uproot` is the ability to read a file remotely.\n",
        "This is done using the `XRootD` library: https://xrootd.slac.stanford.edu/.\n",
        "`XRootD` is a generic suite for fast, low latency and scalable data access, which can serve natively any kind of data, organized as a hierarchical filesystem-like namespace, based on the concept of directory.\n",
        "\n",
        "## XRootD filenames\n",
        "We specify that this is a remote file accessed via `XRootD` using the `root://` protocol in front of the filename.\n",
        "The redirector `eospublic.cern.ch` specifies that we're accessing data from the CERN open data repository.\n",
        "And finally the rest of the file name `/eos/opendata/cms/datascience/HiggsToBBNtupleProducerTool/HiggsToBBNTuple_HiggsToBB_QCD_RunII_13TeV_MC/train/ntuple_merged_10.root` specifies the exact file."
      ]
    },
    {
      "cell_type": "code",
      "execution_count": null,
      "metadata": {
        "id": "HRovopclOaLO"
      },
      "outputs": [],
      "source": [
        "f = uproot.open('root://eospublic.cern.ch//eos/opendata/cms/datascience/HiggsToBBNtupleProducerTool/HiggsToBBNTuple_HiggsToBB_QCD_RunII_13TeV_MC/train/ntuple_merged_10.root')"
      ]
    },
    {
      "cell_type": "markdown",
      "metadata": {
        "id": "QMo6DCWBOaLP"
      },
      "source": [
        "## Trees\n",
        "One common object is a tree.\n",
        "Trees in `ROOT` are basically just tables of information.\n",
        "Trees are composed of branches, which are the columns of the table.\n",
        "The rows usually represent events (individual bunch crossings).\n",
        "However, in this case, each row represents a jet (a localized collection of particles within a single event).\n",
        "\n",
        "First we assign the tree to a variable (named `tree` here).\n",
        "We can see how many rows (jets) are contained in the tree, by checking its `num_entries`."
      ]
    },
    {
      "cell_type": "code",
      "execution_count": null,
      "metadata": {
        "id": "rOzz1A4JOaLP"
      },
      "outputs": [],
      "source": [
        "tree = f['deepntuplizer/tree']\n",
        "print(tree.num_entries)"
      ]
    },
    {
      "cell_type": "markdown",
      "metadata": {
        "id": "MrySjuDqOaLQ"
      },
      "source": [
        "Let's list the contents (branches) of the tree."
      ]
    },
    {
      "cell_type": "code",
      "execution_count": null,
      "metadata": {
        "id": "VVRayznJOaLQ"
      },
      "outputs": [],
      "source": [
        "tree.show()"
      ]
    },
    {
      "cell_type": "markdown",
      "metadata": {
        "id": "RsTbvi2aOaLR"
      },
      "source": [
        "## A note on \"jaggedness\"\n",
        "\n",
        "Some branches are listed has having an interpretation of `asdtype('>f4')` while some others are listed as `asjagged(asdtype('>f4'), 10)`.\n",
        "The former means there is only one number per jet.\n",
        "The latter means there may a variable number per jet.\n",
        "\n",
        "First, let's get just look at non-jagged arrays, starting with the ground truth labels."
      ]
    },
    {
      "cell_type": "code",
      "execution_count": null,
      "metadata": {
        "id": "t29-LvyWOaLS"
      },
      "outputs": [],
      "source": [
        "# Returns a dictionary\n",
        "labels = tree.arrays(['label_QCD_b',\n",
        "                      'label_QCD_bb',\n",
        "                      'label_QCD_c',\n",
        "                      'label_QCD_cc',\n",
        "                      'label_QCD_others',\n",
        "                      'label_H_bb',\n",
        "                      'sample_isQCD'],\n",
        "                     entry_stop=20000,\n",
        "                     library='np')\n",
        "labels"
      ]
    },
    {
      "cell_type": "code",
      "execution_count": null,
      "metadata": {
        "id": "GRNqohDxOaLS"
      },
      "outputs": [],
      "source": [
        "# label QCD: require the sample to be QCD and any of the QCD flavors\n",
        "label_QCD = labels['sample_isQCD'] * (labels['label_QCD_b'] + \\\n",
        "                                      labels['label_QCD_bb'] + \\\n",
        "                                      labels['label_QCD_c'] + \\\n",
        "                                      labels['label_QCD_cc'] + \\\n",
        "                                      labels['label_QCD_others'])\n",
        "\n",
        "# label Hbb\n",
        "label_Hbb = labels['label_H_bb']"
      ]
    },
    {
      "cell_type": "markdown",
      "metadata": {
        "id": "at0EqIBcOaLS"
      },
      "source": [
        "## What is the signal and background?\n",
        "\n",
        "Signal (Higgs) events for this task look like this:\n",
        "\n",
        "$$gg \\to X\\to HH \\to b\\bar{b}b\\bar{b}$$\n",
        "\n",
        "<img width = 400px src=\"http://cms-results.web.cern.ch/cms-results/public-results/publications/B2G-17-006/CMS-B2G-17-006_Figure_001-a.png\"/>\n",
        "\n",
        "Background (QCD) events for this task look like this:\n",
        "\n",
        "$$gg \\to q \\bar{q} / gg / b\\bar{b} / gb\\bar{b} / ggg / \\cdots$$\n",
        "\n",
        "<img width = 400px src=\"https://www.physik.uzh.ch/~che/FeynDiag/diagrams/1_pp_scattering/10000013.png\"/>\n",
        "\n",
        "We will look at differentiating signal and background at the \"jet\" level."
      ]
    },
    {
      "cell_type": "code",
      "execution_count": null,
      "metadata": {
        "id": "eNzf0iwlOaLT"
      },
      "outputs": [],
      "source": [
        "# number of overlap jets\n",
        "sum(label_QCD*label_Hbb)"
      ]
    },
    {
      "cell_type": "code",
      "execution_count": null,
      "metadata": {
        "id": "Iau-aZbDOaLU"
      },
      "outputs": [],
      "source": [
        "# fraction of jets with some truth label defined\n",
        "sum(label_QCD+label_Hbb)/len(label_QCD+label_Hbb)"
      ]
    },
    {
      "cell_type": "code",
      "execution_count": null,
      "metadata": {
        "id": "xmngTvW-OaLU"
      },
      "outputs": [],
      "source": [
        "# jet features, namely transverse momemntum (pt) and soft-drop mass  (sdmass or msd)\n",
        "jet_features = tree.arrays(['fj_pt',\n",
        "                            'fj_sdmass'],\n",
        "                          entry_stop=20000,\n",
        "                          library='np')"
      ]
    },
    {
      "cell_type": "code",
      "execution_count": null,
      "metadata": {
        "id": "MHaWQOxLOaLU"
      },
      "outputs": [],
      "source": [
        "import matplotlib.pyplot as plt\n",
        "import numpy as np\n",
        "\n",
        "plt.figure()\n",
        "\n",
        "plt.hist(jet_features['fj_pt'],weights=label_QCD,bins=np.linspace(0,4000,101),density=True,alpha=0.7,label='QCD')\n",
        "plt.hist(jet_features['fj_pt'],weights=label_Hbb,bins=np.linspace(0,4000,101),density=True,alpha=0.7,label='H(bb)')\n",
        "plt.xlabel(r'Jet $p_{T}$ [GeV]')\n",
        "plt.ylabel('Fraction of jets')\n",
        "plt.legend()\n",
        "\n",
        "plt.figure()\n",
        "\n",
        "plt.hist(jet_features['fj_sdmass'],weights=label_QCD,bins=np.linspace(0,300,101),density=True,alpha=0.7,label='QCD')\n",
        "plt.hist(jet_features['fj_sdmass'],weights=label_Hbb,bins=np.linspace(0,300,101),density=True,alpha=0.7,label='H(bb)')\n",
        "plt.xlabel(r'Jet $m_{SD}$ [GeV]')\n",
        "plt.ylabel('Fraction of jets')\n",
        "plt.legend()\n",
        "\n",
        "plt.show()"
      ]
    },
    {
      "cell_type": "markdown",
      "metadata": {
        "id": "cOfxXIfIOaLV"
      },
      "source": [
        "## Jagged arrys\n",
        "\n",
        "Now let's look at an jagged (or awkward) array, like those related to track features, where there can be a variable number of tracks per jet."
      ]
    },
    {
      "cell_type": "code",
      "execution_count": null,
      "metadata": {
        "id": "jHIIUicNOaLV"
      },
      "outputs": [],
      "source": [
        "import awkward as ak\n",
        "track_features = tree.arrays(['track_pt',\n",
        "                              'label_H_bb'],\n",
        "                             entry_stop=20000,\n",
        "                             library='ak')\n",
        "track_features"
      ]
    },
    {
      "cell_type": "markdown",
      "metadata": {
        "id": "3pytxQcGOaLV"
      },
      "source": [
        "Note the difference between a \"flat\" array, where these a fixed number per jet (like 1 per jet in the case of jet properties) and a jagged array, where there are a variable number.\n",
        "\n",
        "We can demonstrate this by looking at the first jet in the dataset. As we'll see there are 21 tracks, each with their own pt."
      ]
    },
    {
      "cell_type": "code",
      "execution_count": null,
      "metadata": {
        "id": "kpO5XRhtOaLV"
      },
      "outputs": [],
      "source": [
        "jet_features['fj_pt'][0]"
      ]
    },
    {
      "cell_type": "code",
      "execution_count": null,
      "metadata": {
        "id": "Aw-fw0lkOaLV"
      },
      "outputs": [],
      "source": [
        "track_features['track_pt'][0]"
      ]
    },
    {
      "cell_type": "markdown",
      "metadata": {
        "id": "CGx6E1YjOaLV"
      },
      "source": [
        "Note, behind the scenes, jagged arrays are just like normal numpy arrays, except there's additional structure, retreivable from the `ak.num` function, which tells us the (variable) number of tracks per jet."
      ]
    },
    {
      "cell_type": "code",
      "execution_count": null,
      "metadata": {
        "id": "Pk79EWsmOaLV"
      },
      "outputs": [],
      "source": [
        "ak.num(track_features['track_pt'])"
      ]
    },
    {
      "cell_type": "markdown",
      "metadata": {
        "id": "7mGKticWOaLV"
      },
      "source": [
        "## Operations with jaggedness\n",
        "\n",
        "We can plot the full distibution of track pts. But what if we want to find the highest track pt per jet and plot only that?"
      ]
    },
    {
      "cell_type": "code",
      "execution_count": null,
      "metadata": {
        "id": "UvN22UKQOaLW"
      },
      "outputs": [],
      "source": [
        "plt.figure()\n",
        "plt.hist(ak.flatten(track_features['track_pt']),bins=np.linspace(0,100,101),density=True,alpha=0.7,label='All tracks')\n",
        "plt.hist(ak.max(track_features['track_pt'], axis=-1),bins=np.linspace(0,100,101),density=True,alpha=0.7,label=r'Max. $p_{T}$ track per jet')\n",
        "\n",
        "plt.xlabel(r'Track $p_{T}$')\n",
        "plt.ylabel('Fraction of tracks')\n",
        "plt.legend()\n",
        "plt.show()"
      ]
    },
    {
      "cell_type": "markdown",
      "metadata": {
        "id": "trqBUtyCOaLW"
      },
      "source": [
        "## Conversion to regular array\n",
        "\n",
        "Sometimes we want to turn a jagged array into a regular array to make it easier to accomodate into a machine learning algorithm (like a fully conneted or convolutional neural network).\n",
        "The simplest way to do this is to use zero-padding and truncation to \"cap\" the number of objects at some fixed value, and zero-pad if there are less objects.\n",
        "\n",
        "To do this, we can first plot how many tracks there are per jet and choose a reasonable number to cap."
      ]
    },
    {
      "cell_type": "code",
      "execution_count": null,
      "metadata": {
        "id": "dwTTooO2OaLW"
      },
      "outputs": [],
      "source": [
        "plt.figure()\n",
        "plt.hist(ak.num(track_features['track_pt']),bins=np.linspace(0,100,101),density=True,alpha=0.7)\n",
        "\n",
        "plt.xlabel(r'Number of tracks')\n",
        "plt.ylabel('Fraction of jets')\n",
        "plt.show()"
      ]
    },
    {
      "cell_type": "markdown",
      "metadata": {
        "id": "7vMeKeeMOaLW"
      },
      "source": [
        "In this case, 60 seems to be a reasonable number."
      ]
    },
    {
      "cell_type": "code",
      "execution_count": null,
      "metadata": {
        "id": "StDAzBjHOaLX"
      },
      "outputs": [],
      "source": [
        "max_tracks = 60\n",
        "pad_value = 0\n",
        "a = ak.fill_none(ak.pad_none(track_features['track_pt'], max_tracks, clip=True, axis=-1), pad_value, axis=-1).to_numpy()\n",
        "print(a.shape)\n",
        "a"
      ]
    },
    {
      "cell_type": "markdown",
      "metadata": {
        "id": "gdHM5feZOaLX"
      },
      "source": [
        "To recreate the previous plot, we can do the following (note: we expect minor differences):"
      ]
    },
    {
      "cell_type": "code",
      "execution_count": null,
      "metadata": {
        "id": "E0a8vntQOaLX"
      },
      "outputs": [],
      "source": [
        "plt.figure()\n",
        "plt.hist(a[a>0],bins=np.linspace(0,100,101),density=True,alpha=0.7, label='All tracks')\n",
        "plt.hist(np.max(a,axis=-1),bins=np.linspace(0,100,101),density=True,alpha=0.7, label=r'Max. $p_{T}$ track per jet')\n",
        "\n",
        "plt.xlabel(r'Number of tracks')\n",
        "plt.ylabel('Fraction of jets')\n",
        "plt.legend()\n",
        "plt.show()\n",
        "print(a.nonzero())"
      ]
    },
    {
      "cell_type": "markdown",
      "metadata": {
        "id": "hM9xmK-nRsDa"
      },
      "source": [
        "Section 2: Feature Engineering\n",
        "===============================================================\n",
        "\n",
        "Many different kinds of features have been specially engineered to perform b-tagging. We will consider several of these today.\n",
        "\n",
        "## b hadrons\n",
        "\n",
        "B hadrons contain bottom quarks.\n",
        "These hadrons are unstable, meaning they naturally (and spontaneously) decay to hadrons containing lighter quarks, after a period of time (with a known median lifetime).\n",
        "\n",
        "Because of the large mass difference between bottom quarks and the lighter quarks, the lifetime of b hadrons tends to be relatively long: around $10^{-12}$ s.\n",
        "Given the fact that they are traveling near the speed of light, this means they can travel $O$(mm) in the detector before dacaying.\n",
        "The particle sproduced from this decay also tend to be higher energy\n",
        "\n",
        "Therefore, we can consider the properties of *displaced tracks* and *secondary vertices* (points of origin of collections of displaced tracks).\n",
        "In particular we quantify how displaced a track is in terms of its *impact parameter*.\n",
        "\n",
        "## Single b-tagging\n",
        "\n",
        "For single b-tagging, consider the following image:\n",
        "<img src=\"http://cms-results.web.cern.ch/cms-results/public-results/publications/BTV-16-002/CMS-BTV-16-002_Figure_001.png\" alt=\"b-tagging\" width=\"500\">\n",
        "\n",
        "For more information, read {cite:p}`Sirunyan:2017ezt`.\n",
        "\n",
        "## Double b-tagging\n",
        "\n",
        "For double b-tagging, consider the following image:\n",
        "<img src=\"https://github.com/jmduarte/capstone-particle-physics-domain/raw/master/weeks/Hbb.png\" alt=\"double b-tagging\" width=\"500\">\n",
        "\n",
        "For this, we can also take advantage of the so-called *jet substructure*. For more information, read {cite:p}`Marzani:2019hun,Asquith:2018igt`.\n"
      ]
    },
    {
      "cell_type": "code",
      "execution_count": null,
      "metadata": {
        "id": "HYNL-LDoRsDc"
      },
      "outputs": [],
      "source": [
        "import uproot\n",
        "f = uproot.open('root://eospublic.cern.ch//eos/opendata/cms/datascience/HiggsToBBNtupleProducerTool/HiggsToBBNTuple_HiggsToBB_QCD_RunII_13TeV_MC/train/ntuple_merged_10.root')"
      ]
    },
    {
      "cell_type": "code",
      "execution_count": null,
      "metadata": {
        "id": "y0r_D_aLRsDe"
      },
      "outputs": [],
      "source": [
        "tree = f['deepntuplizer/tree']"
      ]
    },
    {
      "cell_type": "code",
      "execution_count": null,
      "metadata": {
        "id": "FWBplspXRsDe"
      },
      "outputs": [],
      "source": [
        "labels = tree.arrays(['label_QCD_b',\n",
        "                      'label_QCD_bb',\n",
        "                      'label_QCD_c',\n",
        "                      'label_QCD_cc',\n",
        "                      'label_QCD_others',\n",
        "                      'label_H_bb',\n",
        "                      'sample_isQCD'],\n",
        "                     entry_stop=20000,\n",
        "                     library='np')"
      ]
    },
    {
      "cell_type": "code",
      "execution_count": null,
      "metadata": {
        "id": "zPMEQJz5RsDf"
      },
      "outputs": [],
      "source": [
        "# label QCD: require the sample to be QCD and any of the QCD flavors\n",
        "label_QCD = labels['sample_isQCD'] * (labels['label_QCD_b'] + \\\n",
        "                                      labels['label_QCD_bb'] + \\\n",
        "                                      labels['label_QCD_c'] + \\\n",
        "                                      labels['label_QCD_cc'] + \\\n",
        "                                      labels['label_QCD_others'])\n",
        "\n",
        "# label Hbb\n",
        "label_Hbb = labels['label_H_bb']"
      ]
    },
    {
      "cell_type": "markdown",
      "metadata": {
        "id": "B9erbRDDRsDf"
      },
      "source": [
        "Let's load a sampling of track, secondary vertex, and jet features."
      ]
    },
    {
      "cell_type": "code",
      "execution_count": null,
      "metadata": {
        "id": "uq6aRbvORsDh"
      },
      "outputs": [],
      "source": [
        "track_features = tree.arrays(['track_pt',\n",
        "                              'track_dxy',\n",
        "                              'track_dxysig',\n",
        "                              'track_dz',\n",
        "                              'track_dzsig',\n",
        "                              'trackBTag_Sip2dSig',\n",
        "                              'trackBTag_Sip2dVal',\n",
        "                              'trackBTag_Sip3dSig',\n",
        "                              'trackBTag_Sip3dVal',\n",
        "                              'trackBTag_PtRatio',\n",
        "                              'trackBTag_PParRatio'],\n",
        "                             entry_stop=20000,\n",
        "                             library='ak')"
      ]
    },
    {
      "cell_type": "code",
      "execution_count": null,
      "metadata": {
        "id": "t_Fl_wwKRsDh"
      },
      "outputs": [],
      "source": [
        "sv_features = tree.arrays(['sv_pt',\n",
        "                           'sv_mass'],\n",
        "                          entry_stop=20000,\n",
        "                          library='ak')"
      ]
    },
    {
      "cell_type": "code",
      "execution_count": null,
      "metadata": {
        "id": "MWVDSgNuRsDh"
      },
      "outputs": [],
      "source": [
        "jet_features = tree.arrays(['fj_pt',\n",
        "                            'fj_sdmass',\n",
        "                            'fj_mass',\n",
        "                            'fj_tau21',\n",
        "                            'fj_jetNTracks',\n",
        "                            'fj_trackSipdSig_0',\n",
        "                            'fj_trackSipdSig_1'],\n",
        "                           entry_stop=20000,\n",
        "                           library='np')"
      ]
    },
    {
      "cell_type": "markdown",
      "metadata": {
        "id": "cbcOHGQXRsDj"
      },
      "source": [
        "## Visualize Separation of Track Features\n",
        "\n",
        "Let's visualize the separation by plotting the signal and background for several track features that may be important.\n",
        "- Number of tracks\n",
        "- Maximum relative track $p_T$\n",
        "- Maximum signed 3D impact parameter value\n",
        "- Maximum signed 3D impact parameter significance: this is the value above divded by the estimated uncertainty of the measurement. This enables us to tell how \"significant\" (far from impact parameter of 0), this value is."
      ]
    },
    {
      "cell_type": "code",
      "execution_count": null,
      "metadata": {
        "id": "XhirIkcmRsDj"
      },
      "outputs": [],
      "source": [
        "import matplotlib.pyplot as plt\n",
        "import numpy as np\n",
        "import awkward as ak\n",
        "\n",
        "# number of tracks\n",
        "plt.figure()\n",
        "plt.hist(ak.num(track_features['track_pt']), weights=label_QCD, bins=np.linspace(0,80,81), density=True, alpha=0.7, label='QCD')\n",
        "plt.hist(ak.num(track_features['track_pt']), weights=label_Hbb, bins=np.linspace(0,80,81), density=True, alpha=0.7, label='H(bb)')\n",
        "plt.xlabel('Number of tracks')\n",
        "plt.ylabel('Fraction of jets')\n",
        "plt.legend()\n",
        "\n",
        "# max. relative track pt\n",
        "plt.figure()\n",
        "plt.hist(ak.max(track_features['track_pt'], axis=-1)/jet_features['fj_pt'], weights=label_QCD, bins=np.linspace(0,0.5,51), density=True,alpha=0.7,label='QCD')\n",
        "plt.hist(ak.max(track_features['track_pt'], axis=-1)/jet_features['fj_pt'], weights=label_Hbb, bins=np.linspace(0,0.5,51), density=True,alpha=0.7,label='H(bb)')\n",
        "plt.xlabel(r'Maximum relative track $p_{T}$')\n",
        "plt.ylabel('Fraction of jets')\n",
        "plt.legend()\n",
        "\n",
        "# maximum signed 3D impact paramter value\n",
        "plt.figure()\n",
        "plt.hist(ak.max(track_features['trackBTag_Sip3dVal'], axis=-1), weights=label_QCD, bins=np.linspace(-2,40,51), density=True, alpha=0.7, label='QCD')\n",
        "plt.hist(ak.max(track_features['trackBTag_Sip3dVal'], axis=-1), weights=label_Hbb, bins=np.linspace(-2,40,51), density=True, alpha=0.7, label='H(bb)')\n",
        "plt.xlabel('Maximum signed 3D impact parameter value')\n",
        "plt.ylabel('Fraction of jets')\n",
        "plt.legend()\n",
        "\n",
        "# maximum signed 3D impact paramter significance\n",
        "plt.figure()\n",
        "plt.hist(ak.max(track_features['trackBTag_Sip3dSig'], axis=-1), weights=label_QCD, bins=np.linspace(-2,200,51), density=True, alpha=0.7, label='QCD')\n",
        "plt.hist(ak.max(track_features['trackBTag_Sip3dSig'], axis=-1), weights=label_Hbb, bins=np.linspace(-2,200,51), density=True, alpha=0.7, label='H(bb)')\n",
        "plt.xlabel('Maximum signed 3D impact parameter significance')\n",
        "plt.ylabel('Fraction of jets')\n",
        "plt.legend()\n",
        "\n",
        "plt.show()"
      ]
    },
    {
      "cell_type": "markdown",
      "metadata": {
        "id": "YkSJSfqcRsDk"
      },
      "source": [
        "## Visualize Separation of SV Features\n",
        "\n",
        "Let's visualize the separation by plotting the signal and background for several track features that may be important.\n",
        "- Number of secondary vertices\n",
        "- Maximum relative secondary vertex $p_T$\n",
        "- Maximum relative secondary vertex mass"
      ]
    },
    {
      "cell_type": "markdown",
      "metadata": {
        "id": "z1ClAQ7pRsDk"
      },
      "source": [
        "## ROC Curves\n",
        "ROC curves can tell us how well each of these features discriminates betweeen signal and background."
      ]
    },
    {
      "cell_type": "code",
      "execution_count": null,
      "metadata": {
        "id": "HflwMyCXRsDk"
      },
      "outputs": [],
      "source": [
        "from sklearn.metrics import roc_curve, auc\n",
        "disc = np.nan_to_num(ak.num(track_features['track_pt'], axis=-1).to_numpy(allow_missing=True))\n",
        "\n",
        "fpr, tpr, threshold = roc_curve(label_Hbb, disc)\n",
        "# plot ROC curve\n",
        "plt.figure()\n",
        "plt.plot(fpr, tpr, lw=2.5, label=\"AUC = {:.1f}%\".format(auc(fpr,tpr)*100))\n",
        "plt.xlabel(r'False positive rate')\n",
        "plt.ylabel(r'True positive rate')\n",
        "#plt.semilogy()\n",
        "plt.ylim(0,1)\n",
        "plt.xlim(0,1)\n",
        "plt.plot([0, 1], [0, 1], lw=2.5, label='Random, AUC = 50.0%')\n",
        "plt.grid(True)\n",
        "plt.legend(loc='upper left')\n",
        "plt.show()"
      ]
    },
    {
      "cell_type": "markdown",
      "metadata": {
        "id": "Ro8Lfg9-RsDl"
      },
      "source": [
        "## Other engineered features\n",
        "To read more about the features read this: http://opendata.cern.ch/record/12102\n",
        "\n",
        "Here is a selection:\n",
        "\n",
        "\n",
        "| Data variable | Type | Description |\n",
        "| :---------------------- | -----------------: | :---------------------- |\n",
        "| `event_no` | UInt_t | Event number |\n",
        "| `npv` | Float_t | Number of reconstructed primary vertices (PVs) |\n",
        "| `ntrueInt` | Float_t | True mean number of the poisson distribution for this event from which the number of interactions in each bunch crossing has been sampled |\n",
        "| `rho` | Float_t | Median density (in GeV/A) of pile-up contamination per event; computed from all PF candidates of the event |\n",
        "| `sample_isQCD` | Int_t | Boolean that is 1 if the simulated sample corresponds to QCD multijet production |\n",
        "| `label_H_bb` | Int_t | Boolean that is 1 if a Higgs boson is matched and at least two b quarks are found within the AK8 jet |\n",
        "| `label_QCD_bb` | Int_t | Boolean that is 1 if no resonances are matched and at least two b quarks are found within the AK8 jet |\n",
        "| `label_QCD_b` | Int_t | Boolean that is 1 if no resonances are matched and only one b quark is found within the AK8 jet |\n",
        "| `label_QCD_cc` | Int_t | Boolean that is 1 if no resonances are matched and at least two c quarks are found within the AK8 jet |\n",
        "| `label_QCD_c` | Int_t | Boolean that is 1 if no resonances are matched and only one c quark is found within the AK8 jet |\n",
        "| `label_QCD_others` | Int_t | Boolean that is 1 if no resonances are matched and no b or c quarks are found within the AK8 jet |\n",
        "| `fj_doubleb` | Float_t | Double-b tagging discriminant based on a boosted decision tree calculated for the AK8 jet (see [CMS-BTV-16-002](http://cms-results.web.cern.ch/cms-results/public-results/publications/BTV-16-002/)) |\n",
        "| `fj_eta` | Float_t | Pseudorapidity η of the AK8 jet |\n",
        "| `fj_gen_eta` | Float_t | Pseudorapidity η of the generator-level, matched heavy particle: H, W, Z, top, etc. (default = -999) |\n",
        "| `fj_gen_pt` | Float_t | Transverse momentum of the generator-level, geometrically matched heavy particle: H, W, Z, t, etc. (default = -999)  |\n",
        "| `fj_isBB` | Int_t | Boolean that is 1 if two or more b hadrons are clustered within the AK8 jet (see [SWGuideBTagMCTools](https://twiki.cern.ch/twiki/bin/view/CMSPublic/SWGuideBTagMCTools)) |\n",
        "| `fj_isNonBB` | Int_t | Boolean that is 1 if fewer than two b hadrons are clustered within the AK8 jet (see [SWGuideBTagMCTools](https://twiki.cern.ch/twiki/bin/view/CMSPublic/SWGuideBTagMCTools)) |\n",
        "| `fj_nbHadrons` | Int_t | Number of b hadrons that are clustered within the AK8 jet (see [SWGuideBTagMCTools](https://twiki.cern.ch/twiki/bin/view/CMSPublic/SWGuideBTagMCTools)) |\n",
        "| `fj_ncHadrons` | Int_t | Number of c hadrons that are clustered within the AK8 jet (see [SWGuideBTagMCTools](https://twiki.cern.ch/twiki/bin/view/CMSPublic/SWGuideBTagMCTools)) |\n",
        "| `fj_isH` | Int_t | Boolean that is 1 if a generator-level Higgs boson and its daughters are geometrically matched to the AK8 jet |\n",
        "| `fj_isTop` | Int_t | Boolean that is 1 if a generator-level top quark and its daughters are geometrically matched to the AK8 jet |\n",
        "| `fj_isW` | Int_t | Boolean that is 1 if a generator-level W boson and its daughters are geometrically matched to the AK8 jet |\n",
        "| `fj_isZ` | Int_t | Boolean that is 1 if a generator-level Z boson and its daughters are geometrically matched to the AK8 jet |\n",
        "| `fj_isQCD` | Int_t | Boolean that is 1 if none of the above matching criteria are satisfied (H, top, W, Z) |\n",
        "| `fj_label` | Int_t | Integer label: `Invalid=0,  Top_all=10, Top_bcq=11, Top_bqq=12, Top_bc=13, Top_bq=14, W_all=20, W_cq=21, W_qq=22, Z_all=30, Z_bb=31, Z_cc=32, Z_qq=33, H_all=40, H_bb=41, H_cc=42, H_qqqq=43, QCD_all=50, QCD_bb=51, QCD_cc=52, QCD_b=53, QCD_c=54, QCD_others=55` |\n",
        "| `fj_labelJMAR` | Int_t | Alternative integer label from the CMS Jet/MET and Resolution (JMAR) group:  `Default=0, Top=1, W=2, Z=3, H=4` |\n",
        "| `fj_labelLegacy` | Int_t | Alternative (legacy) integer label: `Default=0, Top=1, W=2, Z=3, H=4` |\n",
        "| `fj_jetNTracks` | Float_t | Number of tracks associated with the AK8 jet |\n",
        "| `fj_nSV` | Float_t | Number of SVs associated with the AK8 jet (∆R < 0.7) |\n",
        "| `fj_n_sdsubjets` | Float_t | Number of soft drop subjets in the AK8 jet (up to 2) |\n",
        "| `fj_mass` | Float_t | Ungroomed mass of the AK8 jet |\n",
        "| `fj_phi` | Float_t | Azimuthal angle ϕ of the AK8 jet |\n",
        "| `fj_pt` | Float_t | Transverse momentum of the AK8 jet |\n",
        "| `fj_tau1` | Float_t | N-subjettiness variable for a 1-prong jet hypothesis |\n",
        "| `fj_tau2` | Float_t | N-subjettiness variable for a 2-prong jet hypothesis |\n",
        "| `fj_tau3` | Float_t | N-subjettiness variable for a 3-prong jet hypothesis |\n",
        "| `fj_tau21` | Float_t | N-subjettiness variable for 2-prong vs 1-prong jet discrimination (`fj_tau2/fj_tau1`) |\n",
        "| `fj_tau32` | Float_t | N-subjettiness variable for 3-prong vs 2-prong jet discrimination (`fj_tau3/fj_tau2`) |\n",
        "| `fj_sdmass` | Float_t | Soft drop mass of the AK8 jet |\n",
        "| `fj_ptDR` | Float_t | Transverse momentum times the ΔR between the two soft drop subjets |\n",
        "| `fj_relptdiff` | Float_t | Absolute relative difference between the transverse momenta of the two softdrop subjets |\n",
        "| `fj_sdn2` | Float_t | Fraction of second subjet transverse momentum times ∆R squared |\n",
        "| `fj_sdsj1_axis1` | Float_t | First axis of the first subjet |\n",
        "| `fj_sdsj1_axis2` | Float_t | Second axis of the first subjet |\n",
        "| `fj_sdsj1_csv` | Float_t | Combined secondary vertex (CSV) b-tagging discriminant for the first subjet |\n",
        "| `fj_sdsj1_eta` | Float_t | Pseudorapidity η of the first subjet |\n",
        "| `fj_sdsj1_mass` | Float_t | Mass of the first subjet |\n",
        "| `fj_sdsj1_mult` | Float_t | Particle multiplicity of the first subjet |\n",
        "| `fj_sdsj1_phi` | Float_t | Azimuthal angle ϕ of the first subjet |\n",
        "| `fj_sdsj1_pt` | Float_t | Transverse momentum of the first subjet |\n",
        "| `fj_sdsj1_ptD` | Float_t | ptD variable, defined as the square root of the sum in quadrature of the transverse momentum of the subjet constituents divided by the scalar sum of the transverse momentum of the subjet constituents, for the first subjet (see [CMS-PAS-JME-13-002](https://cds.cern.ch/record/1599732)) |\n",
        "| `fj_sdsj2_axis1` | Float_t | First axis of the first subjet |\n",
        "| `fj_sdsj2_axis2` | Float_t | Second axis of the first subjet |\n",
        "| `fj_sdsj2_csv` | Float_t | Combined secondary vertex (CSV) b-tagging discriminant for the first subject |\n",
        "| `fj_sdsj2_eta` | Float_t | Pseudorapidity η of the second subjet |\n",
        "| `fj_sdsj2_mass` | Float_t | Mass of the second subjet |\n",
        "| `fj_sdsj2_mult` | Float_t | Particle multiplicity of the second subjet |\n",
        "| `fj_sdsj2_phi` | Float_t | Azimuthal angle ϕ of the second subjet |\n",
        "| `fj_sdsj2_pt` | Float_t | Transverse momentum of the second subjet |\n",
        "| `fj_sdsj2_ptD` | Float_t | ptD variable, defined as the square root of the sum in quadrature of the transverse momentum of the subjet constituents divided by the scalar sum of the transverse momentum of the subjet constituents, for the second subjet (see [CMS-PAS-JME-13-002](https://cds.cern.ch/record/1599732)) |\n",
        "| `fj_z_ratio` | Float_t | z ratio variable as defined in [CMS-BTV-16-002](http://cms-results.web.cern.ch/cms-results/public-results/publications/BTV-16-002/) |\n",
        "| `fj_trackSipdSig_0` | Float_t | First largest track 3D signed impact parameter significance (see [CMS-BTV-16-002](http://cms-results.web.cern.ch/cms-results/public-results/publications/BTV-16-002/) ) |\n",
        "| `fj_trackSipdSig_1` | Float_t | Second largest track 3D signed impact parameter significance (see [CMS-BTV-16-002](http://cms-results.web.cern.ch/cms-results/public-results/publications/BTV-16-002/) ) |\n",
        "| `fj_trackSipdSig_2` | Float_t | Third largest track 3D signed impact parameter significance (see [CMS-BTV-16-002](http://cms-results.web.cern.ch/cms-results/public-results/publications/BTV-16-002/) )  |\n",
        "| `fj_trackSipdSig_3` | Float_t | Fourth largest track 3D signed impact parameter significance (see [CMS-BTV-16-002](http://cms-results.web.cern.ch/cms-results/public-results/publications/BTV-16-002/) )  |\n",
        "| `fj_trackSipdSig_0_0` | Float_t | First largest track 3D signed impact parameter significance associated to the first N-subjettiness axis |\n",
        "| `fj_trackSipdSig_0_1` | Float_t | Second largest track 3D signed impact parameter significance associated to the first N-subjettiness axis |\n",
        "| `fj_trackSipdSig_1_0` | Float_t | First largest track 3D signed impact parameter significance associated to the second N-subjettiness axis |\n",
        "| `fj_trackSipdSig_1_1` | Float_t | Second largest track 3D signed impact parameter significance associated to the second N-subjettiness axis |\n",
        "| `fj_trackSip2dSigAboveCharm_0` | Float_t | Track 2D signed impact parameter significance of the first track lifting the combined invariant mass of the tracks above the c hadron threshold mass (1.5 GeV) |\n",
        "| `fj_trackSip2dSigAboveBottom_0` | Float_t | Track 2D signed impact parameter significance of the first track lifting the combined invariant mass of the tracks above b hadron threshold mass (5.2 GeV) |\n",
        "| `fj_trackSip2dSigAboveBottom_1` | Float_t | Track 2D signed impact parameter significance of the second track lifting the combined invariant mass of the tracks above b hadron threshold mass (5.2 GeV) |\n",
        "| `fj_tau0_trackEtaRel_0` | Float_t | Smallest track pseudorapidity ∆η, relative to the jet axis, associated to the first N-subjettiness axis |\n",
        "| `fj_tau0_trackEtaRel_1` | Float_t | Second smallest track pseudorapidity ∆η, relative to the jet axis, associated to the first N-subjettiness axis |\n",
        "| `fj_tau0_trackEtaRel_2` | Float_t | Third smallest track pseudorapidity ∆η, relative to the jet axis, associated to the first N-subjettiness axis |\n",
        "| `fj_tau1_trackEtaRel_0` | Float_t | Smallest track pseudorapidity ∆η, relative to the jet axis, associated to the second N-subjettiness axis |\n",
        "| `fj_tau1_trackEtaRel_1` | Float_t | Second smallest track pseudorapidity ∆η, relative to the jet axis, associated to the second N-subjettiness axis |\n",
        "| `fj_tau1_trackEtaRel_2` | Float_t | Third smallest track pseudorapidity ∆η, relative to the jet axis, associated to the second N-subjettiness axis |\n",
        "| `fj_tau_vertexMass_0` | Float_t | Total SV mass for the first N-subjettiness axis, defined as the invariant mass of all tracks from SVs associated with the first N-subjettiness axis |\n",
        "| `fj_tau_vertexMass_1` | Float_t | Total SV mass for the second N-subjettiness axis, defined as the invariant mass of all tracks from SVs associated with the second N-subjettiness axis |\n",
        "| `fj_tau_vertexEnergyRatio_0` | Float_t | SV vertex energy ratio for the first N-subjettiness axis, defined as the total energy of all SVs associated with the first N-subjettiness axis divided by the total energy of all the tracks associated with the AK8 jet that are consistent with the PV |\n",
        "| `fj_tau_vertexEnergyRatio_1` | Float_t | SV energy ratio for the second N-subjettiness axis, defined as the total energy of all SVs associated with the first N-subjettiness axis divided by the total energy of all the tracks associated with the AK8 jet that are consistent with the PV |\n",
        "| `fj_tau_flightDistance2dSig_0` | Float_t | Transverse (2D) flight distance significance between the PV and the SV with the smallest uncertainty on the 3D flight distance associated to the first N-subjettiness axis |\n",
        "| `fj_tau_flightDistance2dSig_1` | Float_t | Transverse (2D) flight distance significance between the PV and the SV with the smallest uncertainty on the 3D flight distance associated to the second N-subjettiness axis |\n",
        "| `fj_tau_vertexDeltaR_0` | Float_t | Pseudoangular distance ∆R between the first N-subjettiness axis and SV direction |\n",
        "| `n_pfcands` | Int_t | Number of particle flow (PF) candidates associated to the AK8 jet with transverse momentum greater than 0.95 GeV |\n",
        "| `npfcands` | Float_t | Number of particle flow (PF) candidates associated to the AK8 jet with transverse momentum greater than 0.95 GeV |\n",
        "| `pfcand_VTX_ass` | Int_t | PV association quality for the PF candiate: `UsedInFitTight=7`, the track is used in the PV fit and the weight is above 0.5; `UsedInFitLoose=6`,  the track is used in the PV fit and the weight is below 0.5; `CompatibilityDz=5` the track is not used in fit but is very close in `dz` to the PV (`dzsig` < 5 or `dz` < 300 um); `CompatibilityBTag=4`, the track is not compatible with the PV but it is close to the nearest jet axis starting from the PV (distance to jet axis < 700 um); `NotReconstructedPrimary=0`, the track is not associated to any PV and is compatible with the beam spot hence it is likely to be originating from an interaction for which we did not reconstruct the PV (beam spot compatibility: `dxysig` < 2 and `dxy` < 200 um); `OtherDeltaZ=1`, none of the above criteria is satisfied, hence the closest in `dz` vertex is associated) |\n",
        "| `pfcand_charge` | Float_t | Electric charge of the PF candidate  |\n",
        "| `pfcand_deltaR` | Float_t | Pseudoangular distance ∆R between the PF candidate and the AK8 jet axis |\n",
        "| `pfcand_drminsv` | Float_t | Minimum pseudoangular distance ∆R between the associated SVs and the PF candidate |\n",
        "| `pfcand_drsubjet1` | Float_t | Pseudoangular distance ∆R between the PF candidate and the first soft drop subjet |\n",
        "| `pfcand_drsubjet2` | Float_t | Pseudoangular distance ∆R between the PF candidate and the second soft drop subjet |\n",
        "| `pfcand_dxy` | Float_t | Transverse (2D) impact paramater of the PF candidate, defined as the distance of closest approach of the PF candidate trajectory to the beam line in the transverse plane to the beam |\n",
        "| `pfcand_dxysig` | Float_t | Transverse (2D) impact paramater significance of the PF candidate |\n",
        "| `pfcand_dz` | Float_t | Longitudinal impact parameter, defined as the distance of closest approach of the PF candidate trajectory to the PV projected on to the z direction |\n",
        "| `pfcand_dzsig` | Float_t | Longitudinal impact parameter significance of the PF candidate |\n",
        "| `pfcand_erel` | Float_t | Energy of the PF candidate divided by the energy of the AK8 jet |\n",
        "| `pfcand_etarel` | Float_t | Pseudorapidity of the PF candidate relative to the AK8 jet axis |\n",
        "| `pfcand_phirel` | Float_t | Azimuthal angular distance ∆ϕ between the PF candidate and the AK8 jet axis |\n",
        "| `pfcand_ptrel` | Float_t | Transverse momentum of the PF candidate divided by the transverse momentum of the AK8 jet |\n",
        "| `pfcand_fromPV` | Float_t | Integer indicating whether the PF candidate is consistent with the PV: `PVUsedInFit=3`, if the track is used in the PV fit; `PVTight=2` if the track is not used in the fit of any of the other PVs and is closest in z to the PV, `PVLoose=1` if the track is closest in z to a PV other then the PV; `NoPV=0` if the track is used in the fit of another PV |\n",
        "| `pfcand_hcalFrac` | Float_t | Fraction of energy of the PF candidate deposited in the hadron calorimeter |\n",
        "| `pfcand_isChargedHad` | Float_t | Boolean that is 1 if the PF candidate is classified as a charged hadron |\n",
        "| `pfcand_isEl` | Float_t | Boolean that is 1 if the PF candidate is classified as an electron |\n",
        "| `pfcand_isGamma` | Float_t | Boolean that is 1 if the PF candidate is classified as an photon |\n",
        "| `pfcand_isMu` | Float_t | Boolean that is 1 if the PF candidate is classified as an muon |\n",
        "| `pfcand_isNeutralHad` | Float_t | Boolean that is 1 if the PF candidate is classified as a neutral hadron |\n",
        "| `pfcand_lostInnerHits` | Float_t | Integer with information related to inner silicon tracker hits for the PF candidate: `validHitInFirstPixelBarrelLayer=-1`, if the track has a valid hit in the first pixel barrel layer; `noLostInnerHits=0` if it does not have such hit because of geometrical or detector inefficiencies (i.e. the hit wasn't expected to be there); `oneLostHit=1`, if the track extrapolation towards the beam line crosses an active detector but no hit is found there; `moreLostHits=2` if there are at least two missing expected inner hits |\n",
        "| `pfcand_mass` | Float_t | Mass of the PF candidate |\n",
        "| `pfcand_puppiw` | Float_t | Pileup per-particle identification (PUPPI) weight indicating whether the PF candidate is pileup-like (0) or not (1) |\n",
        "| `n_tracks` | Int_t | Number of tracks associated with the AK8 jet |\n",
        "| `ntracks` | Float_t | Number of tracks associated with the AK8 jet |\n",
        "| `trackBTag_DeltaR` | Float_t | Pseudoangular distance ∆R between the track and the AK8 jet axis |\n",
        "| `trackBTag_Eta` | Float_t | Pseudorapidity η of the track |\n",
        "| `trackBTag_EtaRel` | Float_t | Pseudorapidity ∆η of the track relative the AK8 jet axis |\n",
        "| `trackBTag_JetDistVal` | Float_t | Minimum track approach distance to the AK8 jet axis |\n",
        "| `trackBTag_Momentum` | Float_t | Momentum of the track |\n",
        "| `trackBTag_PPar` | Float_t | Component of track momentum parallel to the AK8 jet axis |\n",
        "| `trackBTag_PParRatio` | Float_t | Component of track momentum parallel to the AK8 jet axis, normalized to the track momentum |\n",
        "| `trackBTag_PtRatio` | Float_t | Component of track momentum perpendicular to the AK8 jet axis, normalized to the track momentum |\n",
        "| `trackBTag_PtRel` | Float_t | Component of track momentum perpendicular to the AK8 jet axis |\n",
        "| `trackBTag_Sip2dVal` | Float_t | Transverse (2D) signed impact paramater of the track |\n",
        "| `trackBTag_Sip2dSig` | Float_t | Transverse (2D) signed impact paramater significance of the track |\n",
        "| `trackBTag_Sip3dSig` | Float_t | 3D signed impact parameter significance of the track |\n",
        "| `trackBTag_Sip3dVal` | Float_t | 3D signed impact parameter of the track |\n",
        "| `track_VTX_ass` | Float_t | PV association quality for the track: `UsedInFitTight=7`, the track is used in the PV fit and the weight is above 0.5; `UsedInFitLoose=6`, the track is used in the PV fit and the weight is below 0.5; `CompatibilityDz=5` the track is not used in fit but is very close in `dz` to the PV (`dzsig` < 5 or `dz` < 300 um); `CompatibilityBTag=4`, the track is not compatible with the PV but it is close to the nearest jet axis starting from the PV (distance to jet axis < 700 um); `NotReconstructedPrimary=0`, the track is not associated to any PV and is compatible with the BeamSpot hence it is likely to be originating from an interaction for which we did not reconstruct the PV (beam spot compatibility: `dxysig` < 2 and `dxy` < 200 um); `OtherDeltaZ=1`, none of the above criteria is satisfied, hence the closest in dZ vertex is associated) |\n",
        "| `track_charge` | Float_t | Electric charge of the charged PF candidate |\n",
        "| `track_deltaR` | Float_t | Pseudoangular distance (∆R) between the charged PF candidate and the AK8 jet axis |\n",
        "| `track_detadeta` | Float_t | Track covariance matrix entry (eta, eta) |\n",
        "| `track_dlambdadz` | Float_t | Track covariance matrix entry (lambda, dz)  |\n",
        "| `track_dphidphi` | Float_t | Track covariance matrix entry (phi, phi)  |\n",
        "| `track_dphidxy` | Float_t | Track covariance matrix entry (phi, xy) |\n",
        "| `track_dptdpt` | Float_t | Track covariance matrix entry (pT, pT) |\n",
        "| `track_dxydxy` | Float_t | Track covariance matrix entry (dxy, dxy)  |\n",
        "| `track_dxydz` | Float_t | Track covariance matrix entry (dxy, dz) |\n",
        "| `track_dzdz` | Float_t | Track covariance matrix entry (dz, dz) |\n",
        "| `track_drminsv` | Float_t | Minimum pseudoangular distance ∆R between the associated SVs and the charged PF candidate |\n",
        "| `track_drsubjet1` | Float_t | Pseudoangular distance ∆R between the charged PF candidate and the first soft drop subjet |\n",
        "| `track_drsubjet2` | Float_t | Pseudoangular distance ∆R between the charged PF candidate and the second soft drop subjet  |\n",
        "| `track_dxy` | Float_t | Transverse (2D) impact parameter of the track, defined as the distance of closest approach of the track trajectory to the beam line in the transverse plane to the beam |\n",
        "| `track_dxysig` | Float_t | Transverse (2D) impact parameter significance of the track |\n",
        "| `track_dz` | Float_t | Longitudinal impact parameter, defined as the distance of closest approach of the track trajectory to the PV projected on to the z direction |\n",
        "| `track_dzsig` | Float_t | Longitudinal impact parameter significance of the track |\n",
        "| `track_erel` | Float_t | Energy of the charged PF candidate divided by the energy of the AK8 jet |\n",
        "| `track_etarel` | Float_t | Pseudorapidity ∆η of the track relative to the jet axis |\n",
        "| `track_fromPV` | Float_t | Integer indicating whether the charged PF candidate is consistent with the PV: `PVUsedInFit=3`, if the track is used in the PV fit; `PVTight=2` if the track is not used in the fit of any of the other PVs and is closest in z to the PV, `PVLoose=1` if the track is closest in z to a PV other then the PV; `NoPV=0` if the track is used in the fit of another PV |\n",
        "| `track_isChargedHad` | Float_t | Boolean that is 1 if the charged PF candidate is classified as a charged hadron |\n",
        "| `track_isEl` | Float_t | Boolean that is 1 if the charged PF candidate is classified as an electron  |\n",
        "| `track_isMu` | Float_t | Boolean that is 1 if the charged PF candidate is classified as a muon |\n",
        "| `track_lostInnerHits` | Float_t | Integer with information related to inner silicon tracker hits for the track: `validHitInFirstPixelBarrelLayer=-1`, if the track has a valid hit in the first pixel barrel layer; `noLostInnerHits=0` if it does not have such hit because of geometrical or detector inefficiencies (i.e. the hit wasn't expected to be there); `oneLostHit=1`, if the track extrapolation towards the beam line crosses an active detector but no hit is found there; `moreLostHits=2` if there are at least two missing expected inner hits |\n",
        "| `track_mass` | Float_t | Mass of the charged PF candidate |\n",
        "| `track_normchi2` | Float_t | Normalized χ2 of the track fit |\n",
        "| `track_phirel` | Float_t | Azimuthal angular distance ∆ϕ between the charged PF candidate and the AK8 jet axis |\n",
        "| `track_pt` | Float_t | Transverse momentum of the charged PF candidate |\n",
        "| `track_ptrel` | Float_t | Transverse momentum of the charged PF candidate divided by the transverse momentum of the AK8 jet |\n",
        "| `track_puppiw` | Float_t | Pileup per-particle identification (PUPPI) weight indicating whether the PF candidate is pileup-like (0) or not (1)  |\n",
        "| `track_quality` | Float_t | Track quality: `undefQuality=-1`; `loose=0`; `tight=1`; `highPurity=2`; `confirmed=3`, if track found by more than one iteration; `looseSetWithPV=5`; `highPuritySetWithPV=6`, `discarded=7` if a better track found; `qualitySize=8` |\n",
        "| `n_sv` | Int_t | Number of secondary vertices (SV) associated with the AK8 jet (∆R < 0.8) |\n",
        "| `nsv` | Float_t | Number of secondary vertices (SV) associated with the AK8 jet (∆R < 0.8)|\n",
        "| `sv_chi2` | Float_t | χ2 of the vertex fit |\n",
        "| `sv_ndf` | Float_t | number of degrees of freedom of the vertex fit |\n",
        "| `sv_normchi2` | Float_t | χ2 divided by the number of degrees of freedom for the vertex fit |\n",
        "| `sv_costhetasvpv` | Float_t | Cosine of the angle cos(θ) between the SV and the PV |\n",
        "| `sv_d3d` | Float_t | 3D flight distance of the SV |\n",
        "| `sv_d3derr` | Float_t | 3D flight distance uncertainty of the SV |\n",
        "| `sv_d3dsig` | Float_t | 3D flight distance significance of the SV |\n",
        "| `sv_dxy` | Float_t | Transverse (2D) flight distance of the SV |\n",
        "| `sv_dxyerr` | Float_t | Transverse (2D) flight distance uncertainty of the SV |\n",
        "| `sv_dxysig` | Float_t | Transverse (2D) flight distance significance of the SV |\n",
        "| `sv_deltaR` | Float_t | Pseudoangular distance ∆R between the SV and the AK8 jet |\n",
        "| `sv_erel` | Float_t | Energy of the SV divided by the energy of the AK8 jet |\n",
        "| `sv_etarel` | Float_t | Pseudorapidity ∆η of the SV relative to the AK8 jet axis |\n",
        "| `sv_mass` | Float_t | Mass of the SV |\n",
        "| `sv_ntracks` | Float_t | Number of tracks associated with the SV |\n",
        "| `sv_phirel` | Float_t | Azimuthal angular distance ∆ϕ of the SV relative to the jet axis |\n",
        "| `sv_pt` | Float_t | Transverse momentum of the SV |\n",
        "| `sv_ptrel` | Float_t | Transverse momentum of the SV divided by the transverse momentum of the AK8 jet |"
      ]
    },
    {
      "cell_type": "markdown",
      "metadata": {
        "id": "LHL9AN3ZOaFF"
      },
      "source": [
        "Section 3: Simple Classifiers\n",
        "===============================================================\n",
        "\n",
        "This week, we're going to build some simple classifiers."
      ]
    },
    {
      "cell_type": "code",
      "source": [
        "# @title\n",
        "import uproot\n",
        "import numpy as np\n",
        "import awkward as ak\n",
        "\n",
        "# fix for XRootD/uproot4 issue: https://github.com/scikit-hep/uproot4/discussions/355\n",
        "\n",
        "\n",
        "def get_file_handler(file_name):\n",
        "    xrootd_src = file_name.startswith(\"root://\")\n",
        "    if not xrootd_src:\n",
        "        return {\"file_handler\": uproot.MultithreadedFileSource}  # otherwise the memory maps overload available Vmem\n",
        "    elif xrootd_src:\n",
        "        # uncomment below for MultithreadedXRootDSource\n",
        "        return {\"xrootd_handler\": uproot.source.xrootd.MultithreadedXRootDSource}\n",
        "    return {}\n",
        "\n",
        "\n",
        "def find_nearest(array, value):\n",
        "    idx = (np.abs(array-value)).argmin()\n",
        "    return idx, array[idx]\n",
        "\n",
        "\n",
        "def to_np_array(ak_array, max_n=100, pad=0):\n",
        "    return ak.fill_none(ak.pad_none(ak_array, max_n, clip=True, axis=-1), pad).to_numpy()\n",
        "\n",
        "\n",
        "def get_features_labels(file_name, features, spectators, labels, remove_mass_pt_window=True, entry_stop=None):\n",
        "    # load file\n",
        "    root_file = uproot.open(file_name, **get_file_handler(file_name))\n",
        "    tree = root_file['deepntuplizer/tree']\n",
        "    feature_array = tree.arrays(features,\n",
        "                                entry_stop=entry_stop,\n",
        "                                library='np')\n",
        "    spec_array = tree.arrays(spectators,\n",
        "                             entry_stop=entry_stop,\n",
        "                             library='np')\n",
        "    label_array_all = tree.arrays(labels,\n",
        "                                  entry_stop=entry_stop,\n",
        "                                  library='np')\n",
        "\n",
        "    feature_array = np.stack([feature_array[feat] for feat in features], axis=1)\n",
        "    spec_array = np.stack([spec_array[spec] for spec in spectators], axis=1)\n",
        "\n",
        "    njets = feature_array.shape[0]\n",
        "\n",
        "    label_array = np.zeros((njets, 2))\n",
        "    label_array[:, 0] = label_array_all['sample_isQCD'] * (label_array_all['label_QCD_b'] +\n",
        "                                                           label_array_all['label_QCD_bb'] +\n",
        "                                                           label_array_all['label_QCD_c'] +\n",
        "                                                           label_array_all['label_QCD_cc'] +\n",
        "                                                           label_array_all['label_QCD_others'])\n",
        "    label_array[:, 1] = label_array_all['label_H_bb']\n",
        "\n",
        "    # remove samples outside mass/pT window\n",
        "    if remove_mass_pt_window:\n",
        "        feature_array = feature_array[(spec_array[:, 0] > 40) & (spec_array[:, 0] < 200) & (spec_array[:, 1] > 300) & (spec_array[:, 1] < 2000)]\n",
        "        label_array = label_array[(spec_array[:, 0] > 40) & (spec_array[:, 0] < 200) & (spec_array[:, 1] > 300) & (spec_array[:, 1] < 2000)]\n",
        "        spec_array = spec_array[(spec_array[:, 0] > 40) & (spec_array[:, 0] < 200) & (spec_array[:, 1] > 300) & (spec_array[:, 1] < 2000)]\n",
        "\n",
        "    # remove unlabeled data\n",
        "    feature_array = feature_array[np.sum(label_array, axis=1) == 1]\n",
        "    spec_array = spec_array[np.sum(label_array, axis=1) == 1]\n",
        "    label_array = label_array[np.sum(label_array, axis=1) == 1]\n",
        "\n",
        "    return feature_array, label_array, spec_array\n",
        "\n",
        "\n",
        "def make_image(feature_array, n_pixels=224, img_ranges=[[-0.8, 0.8], [-0.8, 0.8]]):\n",
        "    wgt = feature_array[:, 0]  # ptrel\n",
        "    x = feature_array[:, 1]  # etarel\n",
        "    y = feature_array[:, 2]  # phirel\n",
        "    img = np.zeros(shape=(len(wgt), n_pixels, n_pixels))\n",
        "    for i in range(len(wgt)):\n",
        "        hist2d, xedges, yedges = np.histogram2d(x[i], y[i],\n",
        "                                                bins=[n_pixels, n_pixels],\n",
        "                                                range=img_ranges,\n",
        "                                                weights=wgt[i])\n",
        "        img[i] = hist2d\n",
        "    return np.expand_dims(img, axis=-1)"
      ],
      "metadata": {
        "cellView": "form",
        "id": "htFvO0ewSa7Q"
      },
      "execution_count": null,
      "outputs": []
    },
    {
      "cell_type": "code",
      "execution_count": null,
      "metadata": {
        "id": "S38frykQOaFG"
      },
      "outputs": [],
      "source": [
        "import tensorflow.keras as keras\n",
        "import numpy as np\n",
        "from sklearn.metrics import roc_curve, auc\n",
        "import matplotlib.pyplot as plt\n",
        "import uproot"
      ]
    },
    {
      "cell_type": "code",
      "execution_count": null,
      "metadata": {
        "id": "-1I67Gk_OaFH"
      },
      "outputs": [],
      "source": [
        "features = [\"fj_jetNTracks\",\n",
        "            \"fj_nSV\",\n",
        "            \"fj_tau0_trackEtaRel_0\",\n",
        "            \"fj_tau0_trackEtaRel_1\",\n",
        "            \"fj_tau0_trackEtaRel_2\",\n",
        "            \"fj_tau1_trackEtaRel_0\",\n",
        "            \"fj_tau1_trackEtaRel_1\",\n",
        "            \"fj_tau1_trackEtaRel_2\",\n",
        "            \"fj_tau_flightDistance2dSig_0\",\n",
        "            \"fj_tau_flightDistance2dSig_1\",\n",
        "            \"fj_tau_vertexDeltaR_0\",\n",
        "            \"fj_tau_vertexEnergyRatio_0\",\n",
        "            \"fj_tau_vertexEnergyRatio_1\",\n",
        "            \"fj_tau_vertexMass_0\",\n",
        "            \"fj_tau_vertexMass_1\",\n",
        "            \"fj_trackSip2dSigAboveBottom_0\",\n",
        "            \"fj_trackSip2dSigAboveBottom_1\",\n",
        "            \"fj_trackSip2dSigAboveCharm_0\",\n",
        "            \"fj_trackSipdSig_0\",\n",
        "            \"fj_trackSipdSig_0_0\",\n",
        "            \"fj_trackSipdSig_0_1\",\n",
        "            \"fj_trackSipdSig_1\",\n",
        "            \"fj_trackSipdSig_1_0\",\n",
        "            \"fj_trackSipdSig_1_1\",\n",
        "            \"fj_trackSipdSig_2\",\n",
        "            \"fj_trackSipdSig_3\",\n",
        "            \"fj_z_ratio\"]\n",
        "spectators = [\"fj_sdmass\", \"fj_pt\"]\n",
        "labels = [\"label_QCD_b\",\n",
        "          \"label_QCD_bb\",\n",
        "          \"label_QCD_c\",\n",
        "          \"label_QCD_cc\",\n",
        "          \"label_QCD_others\",\n",
        "          \"sample_isQCD\",\n",
        "          \"label_H_bb\" ]\n",
        "\n",
        "nfeatures = 27\n",
        "nspectators = 2\n",
        "nlabels = 2"
      ]
    },
    {
      "cell_type": "markdown",
      "metadata": {
        "id": "4kIutzqSOaFI"
      },
      "source": [
        "Let's set up a function to get features and labels."
      ]
    },
    {
      "cell_type": "code",
      "execution_count": null,
      "metadata": {
        "id": "pb0dtT0bOaFI"
      },
      "outputs": [],
      "source": [
        "# load training file\n",
        "feature_array, label_array, spec_array = get_features_labels('root://eospublic.cern.ch//eos/opendata/cms/datascience/HiggsToBBNtupleProducerTool/HiggsToBBNTuple_HiggsToBB_QCD_RunII_13TeV_MC/train/ntuple_merged_10.root',\n",
        "                                                                   features, spectators, labels,\n",
        "                                                                   remove_mass_pt_window=False,\n",
        "                                                                   entry_stop=20000)"
      ]
    },
    {
      "cell_type": "markdown",
      "metadata": {
        "id": "CcWVBjr8OaFK"
      },
      "source": [
        "## Decision Tree Classifier"
      ]
    },
    {
      "cell_type": "code",
      "execution_count": null,
      "metadata": {
        "id": "yDBU7WJGOaFK"
      },
      "outputs": [],
      "source": [
        "from sklearn import tree\n",
        "clf = tree.DecisionTreeClassifier(max_depth=5)\n",
        "clf = clf.fit(feature_array, label_array[:,1])"
      ]
    },
    {
      "cell_type": "markdown",
      "metadata": {
        "id": "GTWAg0VXOaFK"
      },
      "source": [
        "## Support Vector Machine Classifier"
      ]
    },
    {
      "cell_type": "code",
      "execution_count": null,
      "metadata": {
        "id": "2cznX65hOaFL"
      },
      "outputs": [],
      "source": [
        "from sklearn import linear_model\n",
        "svm = linear_model.SGDClassifier()\n",
        "svm.fit(feature_array, label_array[:,1])"
      ]
    },
    {
      "cell_type": "markdown",
      "metadata": {
        "id": "C2QwJmC_OaFM"
      },
      "source": [
        "## Fully Connected Neural Network Classifier"
      ]
    },
    {
      "cell_type": "code",
      "execution_count": null,
      "metadata": {
        "id": "vi2BAY-SOaFN"
      },
      "outputs": [],
      "source": [
        "from tensorflow.keras.models import Model\n",
        "from tensorflow.keras.layers import Input, Dense, BatchNormalization\n",
        "\n",
        "# define dense keras model\n",
        "inputs = Input(shape=(nfeatures,), name = 'input')\n",
        "x = BatchNormalization(name='bn_1')(inputs)\n",
        "x = Dense(64, name = 'dense_1', activation='relu')(x)\n",
        "x = Dense(32, name = 'dense_2', activation='relu')(x)\n",
        "x = Dense(32, name = 'dense_3', activation='relu')(x)\n",
        "outputs = Dense(nlabels, name = 'output', activation='softmax')(x)\n",
        "keras_model = Model(inputs=inputs, outputs=outputs)\n",
        "keras_model.compile(optimizer='adam', loss='categorical_crossentropy', metrics=['accuracy'])\n",
        "print(keras_model.summary())"
      ]
    },
    {
      "cell_type": "code",
      "execution_count": null,
      "metadata": {
        "id": "-zf3xdlVOaFO"
      },
      "outputs": [],
      "source": [
        "# define callbacks\n",
        "from tensorflow.keras.callbacks import ModelCheckpoint, EarlyStopping, ReduceLROnPlateau\n",
        "\n",
        "early_stopping = EarlyStopping(monitor='val_loss', patience=20)\n",
        "reduce_lr = ReduceLROnPlateau(patience=5,factor=0.5)\n",
        "model_checkpoint = ModelCheckpoint('keras_model_best.h5', monitor='val_loss', save_best_only=True)\n",
        "callbacks = [early_stopping, model_checkpoint, reduce_lr]\n",
        "\n",
        "# fit keras model\n",
        "history = keras_model.fit(feature_array, label_array, batch_size=1024,\n",
        "                          epochs=100, validation_split=0.2, shuffle=False,\n",
        "                          callbacks = callbacks, verbose=0)\n",
        "# reload best weights\n",
        "keras_model.load_weights('keras_model_best.h5')"
      ]
    },
    {
      "cell_type": "code",
      "execution_count": null,
      "metadata": {
        "id": "BExRGIgSOaFO"
      },
      "outputs": [],
      "source": [
        "plt.figure()\n",
        "plt.plot(history.history['loss'],label='Loss')\n",
        "plt.plot(history.history['val_loss'],label='Val. loss')\n",
        "plt.xlabel('Epoch')\n",
        "plt.legend()\n",
        "plt.show()"
      ]
    },
    {
      "cell_type": "code",
      "execution_count": null,
      "metadata": {
        "id": "KG3FYbV0OaFO"
      },
      "outputs": [],
      "source": [
        "# load testing file\n",
        "feature_array_test, label_array_test, spec_array_test = get_features_labels('root://eospublic.cern.ch//eos/opendata/cms/datascience/HiggsToBBNtupleProducerTool/HiggsToBBNTuple_HiggsToBB_QCD_RunII_13TeV_MC/test/ntuple_merged_0.root',\n",
        "                                                                                  features, spectators, labels,\n",
        "                                                                                  remove_mass_pt_window=True,\n",
        "                                                                                  entry_stop=30000)"
      ]
    },
    {
      "cell_type": "code",
      "execution_count": null,
      "metadata": {
        "id": "Xg7lazUSOaFP"
      },
      "outputs": [],
      "source": [
        "# run model inference on test data set\n",
        "predict_array_nn = keras_model.predict(feature_array_test)[:,1]\n",
        "predict_array_tree = clf.predict_proba(feature_array_test)[:,1]\n",
        "predict_array_svm = svm.decision_function(feature_array_test)\n",
        "\n",
        "# create ROC curves\n",
        "fpr_tree, tpr_tree, threshold_tree = roc_curve(label_array_test[:,1], predict_array_tree)\n",
        "fpr_svm, tpr_svm, threshold_svm = roc_curve(label_array_test[:,1], predict_array_svm)\n",
        "fpr_nn, tpr_nn, threshold_nn = roc_curve(label_array_test[:,1], predict_array_nn)\n",
        "\n",
        "# plot ROC curves\n",
        "plt.figure()\n",
        "plt.plot(tpr_tree, fpr_tree, lw=2.5, label=\"Tree, AUC = {:.1f}%\".format(auc(fpr_tree,tpr_tree)*100))\n",
        "plt.plot(tpr_svm, fpr_svm, lw=2.5, label=\"SVM, AUC = {:.1f}%\".format(auc(fpr_svm,tpr_svm)*100))\n",
        "plt.plot(tpr_nn, fpr_nn, lw=2.5, label=\"NN, AUC = {:.1f}%\".format(auc(fpr_nn,tpr_nn)*100))\n",
        "plt.xlabel(r'True positive rate')\n",
        "plt.ylabel(r'False positive rate')\n",
        "plt.semilogy()\n",
        "plt.ylim(0.001,1)\n",
        "plt.xlim(0,1)\n",
        "plt.grid(True)\n",
        "plt.legend(loc='upper left')\n",
        "plt.show()"
      ]
    },
    {
      "cell_type": "markdown",
      "metadata": {
        "id": "5xx4Xf45OaFP"
      },
      "source": [
        "Try to add a boosted decision tree."
      ]
    },
    {
      "cell_type": "markdown",
      "source": [
        "Exercise taken from [Javier Duarte's Particle Physics and Machine Learning class](https://github.com/jmduarte/capstone-particle-physics-domain)."
      ],
      "metadata": {
        "id": "UAXN5eeUesXL"
      }
    }
  ],
  "metadata": {
    "kernelspec": {
      "display_name": "Python 3",
      "language": "python",
      "name": "python3"
    },
    "language_info": {
      "codemirror_mode": {
        "name": "ipython",
        "version": 3
      },
      "file_extension": ".py",
      "mimetype": "text/x-python",
      "name": "python",
      "nbconvert_exporter": "python",
      "pygments_lexer": "ipython3",
      "version": "3.9.4"
    },
    "colab": {
      "provenance": []
    }
  },
  "nbformat": 4,
  "nbformat_minor": 0
}