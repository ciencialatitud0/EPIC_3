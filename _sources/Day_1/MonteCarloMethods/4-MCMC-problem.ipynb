{
  "cells": [
    {
      "cell_type": "markdown",
      "metadata": {
        "id": "view-in-github",
        "colab_type": "text"
      },
      "source": [
        "<a href=\"https://colab.research.google.com/github/wbandabarragan/EPIC_3/blob/main/EPIC_3/Day_1%20/MonteCarloMethods/4-MCMC-problem.ipynb\" target=\"_parent\"><img src=\"https://colab.research.google.com/assets/colab-badge.svg\" alt=\"Open In Colab\"/></a>"
      ]
    },
    {
      "cell_type": "markdown",
      "id": "b2b494c9",
      "metadata": {
        "id": "b2b494c9"
      },
      "source": [
        "# Proposed problem: Understanding selection bias\n",
        "\n",
        "## A Monte Carlo simulation problem\n",
        "\n",
        "Supernovae type Ia (SN Ia) have a very similar intrinsic known brightness (i.e. they have a very similar absolute magnitude $M$), so they can be used as \"standard candles\" to measure the luminosity distance, $d$, as a function of redshift, $z$:\n",
        "\n",
        "\\begin{equation}\n",
        "d=\\frac{cz}{H_0}\n",
        "\\end{equation}\n",
        "\n",
        "where $c$ is the speed of light and $H_0$ is the Hubble constant. Since they have similar absolute magnitudes $M$, we can estimate distances by comparing how bright or faint they appear on the sky as indicated by the measured apparent magnitude, $m$, which does differ:\n",
        "\n",
        "\\begin{equation}\n",
        "m=M+5\\log\\left(\\frac{d}{\\rm Mpc}\\right)+25\n",
        "\\end{equation}\n",
        "\n",
        "Higher $m$ values imply objects are fainter; lower $m$ values imply objects are brighter. Same for $M$. Unfortunately, selection effects associated with instrumental limitations can bias our measurements. For example, far-away SN Ia can be so faint that they may not be detectable, so the sample will be biased towards brighter objects.\n",
        "\n",
        "**Therefore, to understant selection bias, we want to simulate this effect using a Monte Carlo simulation.**\n",
        "\n",
        "The purpose of this problem is to determine the bias as a function of redshift for a sample of objects (SN Ia) via a Monte Carlo calculation. To set up your simulation, assume that:\n",
        "\n",
        "- $H_0 = 70\\,\\rm km\\,s^{-1}\\,Mpc^{-1}$\n",
        "\n",
        "- the absolute magnitude of SN Ia $M=-19.5\\,\\rm mag$.\n",
        "\n",
        "- your supernova search will be able to detect $100$% of objects as faint as $m=18.5\\,\\rm mag$, and none fainter.\n",
        "\n",
        "(a) Write a python function to generate $N$ Gaussian random variables with mean $\\langle M\\rangle=-19.5\\,\\rm mag$ and different standard deviations ($\\sigma_M=0.1$, $0.2$, and $0.4\\,\\rm mag$). Make $3$ plots of $M$ versus $N$, where $N$ is the number of generated objects, one for each $\\sigma_M$.\n",
        "\n",
        "(b) Write a python function to calculate and return:\n",
        "\n",
        "- the luminosity distances, $d$, in $\\rm Mpc$ given redshifts between $z=0$ and $z=0.1$.\n",
        "\n",
        "- the apparent magnitudes, $m$, for the same redshift range.\n",
        "\n",
        "(c) Write a python function that:\n",
        "\n",
        "- reads the resulting $m$ values from item (b),\n",
        "\n",
        "- removes values with apparent magnitudes larger than the detection threshold $m=18.5\\,\\rm mag$,\n",
        "\n",
        "- re-calculates the mean observed magnitude $\\langle M_{\\rm observed}\\rangle$ of the SNIa from the actually detected objects for the same redshift range.\n",
        "\n",
        "- returns the bias as a function of redshift. The bias in $M$ can be calculated with:\n",
        "\n",
        "\\begin{equation}\n",
        "|\\Delta M|=|\\langle M_{\\rm observed}\\rangle  - \\langle M\\rangle|\n",
        "\\end{equation}\n",
        "\n",
        "(d) Make $3$ plots of $m$ versus $N$, where $N$ is the number of generated objects, one for each $\\sigma_M=0.1$, $0.2$, and $0,4\\,\\rm mag$, showing the detection threshold and colouring distinctly the objects that would not be detected.\n",
        "\n",
        "(e) Make $3$ plots of $|\\Delta M|$ versus $z$, one for each $\\sigma_M=0.1$, $0.2$, and $0,4\\,\\rm mag$. At which redshift does selection bias become important in each case?"
      ]
    },
    {
      "cell_type": "code",
      "source": [],
      "metadata": {
        "id": "dscNeZvlcKkh"
      },
      "id": "dscNeZvlcKkh",
      "execution_count": null,
      "outputs": []
    }
  ],
  "metadata": {
    "kernelspec": {
      "display_name": "Python 3 (ipykernel)",
      "language": "python",
      "name": "python3"
    },
    "language_info": {
      "codemirror_mode": {
        "name": "ipython",
        "version": 3
      },
      "file_extension": ".py",
      "mimetype": "text/x-python",
      "name": "python",
      "nbconvert_exporter": "python",
      "pygments_lexer": "ipython3",
      "version": "3.7.16"
    },
    "colab": {
      "provenance": [],
      "include_colab_link": true
    }
  },
  "nbformat": 4,
  "nbformat_minor": 5
}